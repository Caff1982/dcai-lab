{
 "cells": [
  {
   "cell_type": "markdown",
   "id": "9ffd9348",
   "metadata": {},
   "source": [
    "# Lab - Data-Centric Evaluation of ML Models\n",
    "\n",
    "This lab is intended to accompany the lecture on Data-Centric Evaluation of ML Models. In this lab, you are given a training dataset and your goal is to improve the dataset in order to boost the accuracy of a fixed classification model on a given (fixed) test dataset. Reviewing the lecture notes will be helpful to get some ideas.\n",
    "\n",
    "You can get all the dependencies you need for this notebook by running:"
   ]
  },
  {
   "cell_type": "code",
   "execution_count": 1,
   "id": "158f9d1e",
   "metadata": {},
   "outputs": [
    {
     "name": "stdout",
     "output_type": "stream",
     "text": [
      "Requirement already satisfied: cleanlab in /home/stephen/Projects/DataScience/env3.9/lib/python3.9/site-packages (2.3.0)\n",
      "Requirement already satisfied: matplotlib in /home/stephen/Projects/DataScience/env3.9/lib/python3.9/site-packages (3.6.2)\n",
      "Requirement already satisfied: tqdm>=4.53.0 in /home/stephen/Projects/DataScience/env3.9/lib/python3.9/site-packages (from cleanlab) (4.64.1)\n",
      "Requirement already satisfied: scikit-learn>=1.0 in /home/stephen/Projects/DataScience/env3.9/lib/python3.9/site-packages (from cleanlab) (1.1.2)\n",
      "Requirement already satisfied: termcolor>=2.0.0 in /home/stephen/Projects/DataScience/env3.9/lib/python3.9/site-packages (from cleanlab) (2.0.1)\n",
      "Requirement already satisfied: pandas>=1.1.5 in /home/stephen/Projects/DataScience/env3.9/lib/python3.9/site-packages (from cleanlab) (1.4.1)\n",
      "Requirement already satisfied: numpy>=1.20.0 in /home/stephen/Projects/DataScience/env3.9/lib/python3.9/site-packages (from cleanlab) (1.22.3)\n",
      "Requirement already satisfied: fonttools>=4.22.0 in /home/stephen/Projects/DataScience/env3.9/lib/python3.9/site-packages (from matplotlib) (4.31.2)\n",
      "Requirement already satisfied: pyparsing>=2.2.1 in /home/stephen/Projects/DataScience/env3.9/lib/python3.9/site-packages (from matplotlib) (3.0.7)\n",
      "Requirement already satisfied: python-dateutil>=2.7 in /home/stephen/Projects/DataScience/env3.9/lib/python3.9/site-packages (from matplotlib) (2.8.2)\n",
      "Requirement already satisfied: contourpy>=1.0.1 in /home/stephen/Projects/DataScience/env3.9/lib/python3.9/site-packages (from matplotlib) (1.0.5)\n",
      "Requirement already satisfied: pillow>=6.2.0 in /home/stephen/Projects/DataScience/env3.9/lib/python3.9/site-packages (from matplotlib) (9.0.1)\n",
      "Requirement already satisfied: packaging>=20.0 in /home/stephen/Projects/DataScience/env3.9/lib/python3.9/site-packages (from matplotlib) (21.3)\n",
      "Requirement already satisfied: cycler>=0.10 in /home/stephen/Projects/DataScience/env3.9/lib/python3.9/site-packages (from matplotlib) (0.11.0)\n",
      "Requirement already satisfied: kiwisolver>=1.0.1 in /home/stephen/Projects/DataScience/env3.9/lib/python3.9/site-packages (from matplotlib) (1.4.0)\n",
      "Requirement already satisfied: pytz>=2020.1 in /home/stephen/Projects/DataScience/env3.9/lib/python3.9/site-packages (from pandas>=1.1.5->cleanlab) (2022.1)\n",
      "Requirement already satisfied: six>=1.5 in /home/stephen/Projects/DataScience/env3.9/lib/python3.9/site-packages (from python-dateutil>=2.7->matplotlib) (1.16.0)\n",
      "Requirement already satisfied: scipy>=1.3.2 in /home/stephen/Projects/DataScience/env3.9/lib/python3.9/site-packages (from scikit-learn>=1.0->cleanlab) (1.8.0)\n",
      "Requirement already satisfied: threadpoolctl>=2.0.0 in /home/stephen/Projects/DataScience/env3.9/lib/python3.9/site-packages (from scikit-learn>=1.0->cleanlab) (3.1.0)\n",
      "Requirement already satisfied: joblib>=1.0.0 in /home/stephen/Projects/DataScience/env3.9/lib/python3.9/site-packages (from scikit-learn>=1.0->cleanlab) (1.1.0)\n",
      "\n",
      "\u001b[1m[\u001b[0m\u001b[34;49mnotice\u001b[0m\u001b[1;39;49m]\u001b[0m\u001b[39;49m A new release of pip available: \u001b[0m\u001b[31;49m22.3.1\u001b[0m\u001b[39;49m -> \u001b[0m\u001b[32;49m23.0.1\u001b[0m\n",
      "\u001b[1m[\u001b[0m\u001b[34;49mnotice\u001b[0m\u001b[1;39;49m]\u001b[0m\u001b[39;49m To update, run: \u001b[0m\u001b[32;49mpip install --upgrade pip\u001b[0m\n"
     ]
    }
   ],
   "source": [
    "!pip install cleanlab matplotlib"
   ]
  },
  {
   "cell_type": "code",
   "execution_count": 2,
   "id": "59acb88e",
   "metadata": {},
   "outputs": [],
   "source": [
    "import pandas as pd\n",
    "import numpy as np\n",
    "\n",
    "import sklearn\n",
    "from sklearn.neural_network import MLPClassifier\n",
    "from sklearn.metrics import balanced_accuracy_score\n",
    "\n",
    "import matplotlib.pyplot as plt"
   ]
  },
  {
   "cell_type": "code",
   "execution_count": 3,
   "id": "9e608a19",
   "metadata": {},
   "outputs": [],
   "source": [
    "SEED = 123\n",
    "np.random.seed(SEED)  # for reproducibility"
   ]
  },
  {
   "cell_type": "markdown",
   "id": "b58f3d8a",
   "metadata": {},
   "source": [
    "# Load dataset\n",
    "\n",
    "The data come from a 3-class classification task where the goal is to predict `y` based on features `x1`, ..., `x5`.\n",
    "We convert the data to a numpy array format."
   ]
  },
  {
   "cell_type": "code",
   "execution_count": 4,
   "id": "aaf3eb22",
   "metadata": {},
   "outputs": [],
   "source": [
    "df = pd.read_csv(\"train.csv\")\n",
    "df_test = pd.read_csv(\"test.csv\")"
   ]
  },
  {
   "cell_type": "code",
   "execution_count": 5,
   "id": "922ccebe",
   "metadata": {},
   "outputs": [
    {
     "data": {
      "text/html": [
       "<div>\n",
       "<style scoped>\n",
       "    .dataframe tbody tr th:only-of-type {\n",
       "        vertical-align: middle;\n",
       "    }\n",
       "\n",
       "    .dataframe tbody tr th {\n",
       "        vertical-align: top;\n",
       "    }\n",
       "\n",
       "    .dataframe thead th {\n",
       "        text-align: right;\n",
       "    }\n",
       "</style>\n",
       "<table border=\"1\" class=\"dataframe\">\n",
       "  <thead>\n",
       "    <tr style=\"text-align: right;\">\n",
       "      <th></th>\n",
       "      <th>x0</th>\n",
       "      <th>x1</th>\n",
       "      <th>x2</th>\n",
       "      <th>x3</th>\n",
       "      <th>x4</th>\n",
       "      <th>x5</th>\n",
       "      <th>y</th>\n",
       "    </tr>\n",
       "  </thead>\n",
       "  <tbody>\n",
       "    <tr>\n",
       "      <th>0</th>\n",
       "      <td>-0.333489</td>\n",
       "      <td>-0.770208</td>\n",
       "      <td>-2.697486</td>\n",
       "      <td>-0.628563</td>\n",
       "      <td>-1.277720</td>\n",
       "      <td>100.0</td>\n",
       "      <td>2</td>\n",
       "    </tr>\n",
       "    <tr>\n",
       "      <th>1</th>\n",
       "      <td>-0.787124</td>\n",
       "      <td>1.230800</td>\n",
       "      <td>1.415472</td>\n",
       "      <td>-0.805927</td>\n",
       "      <td>0.175115</td>\n",
       "      <td>100.0</td>\n",
       "      <td>1</td>\n",
       "    </tr>\n",
       "    <tr>\n",
       "      <th>2</th>\n",
       "      <td>0.781197</td>\n",
       "      <td>-0.856227</td>\n",
       "      <td>2.138879</td>\n",
       "      <td>2.495417</td>\n",
       "      <td>0.868192</td>\n",
       "      <td>100.0</td>\n",
       "      <td>1</td>\n",
       "    </tr>\n",
       "    <tr>\n",
       "      <th>3</th>\n",
       "      <td>1.895093</td>\n",
       "      <td>-0.885939</td>\n",
       "      <td>1.946352</td>\n",
       "      <td>-2.082747</td>\n",
       "      <td>0.064914</td>\n",
       "      <td>100.0</td>\n",
       "      <td>1</td>\n",
       "    </tr>\n",
       "    <tr>\n",
       "      <th>4</th>\n",
       "      <td>0.689091</td>\n",
       "      <td>-5.091299</td>\n",
       "      <td>-2.218682</td>\n",
       "      <td>0.330767</td>\n",
       "      <td>3.012755</td>\n",
       "      <td>100.0</td>\n",
       "      <td>2</td>\n",
       "    </tr>\n",
       "  </tbody>\n",
       "</table>\n",
       "</div>"
      ],
      "text/plain": [
       "         x0        x1        x2        x3        x4     x5  y\n",
       "0 -0.333489 -0.770208 -2.697486 -0.628563 -1.277720  100.0  2\n",
       "1 -0.787124  1.230800  1.415472 -0.805927  0.175115  100.0  1\n",
       "2  0.781197 -0.856227  2.138879  2.495417  0.868192  100.0  1\n",
       "3  1.895093 -0.885939  1.946352 -2.082747  0.064914  100.0  1\n",
       "4  0.689091 -5.091299 -2.218682  0.330767  3.012755  100.0  2"
      ]
     },
     "execution_count": 5,
     "metadata": {},
     "output_type": "execute_result"
    }
   ],
   "source": [
    "df.head()"
   ]
  },
  {
   "cell_type": "code",
   "execution_count": 6,
   "id": "a22b105b",
   "metadata": {},
   "outputs": [
    {
     "data": {
      "text/html": [
       "<div>\n",
       "<style scoped>\n",
       "    .dataframe tbody tr th:only-of-type {\n",
       "        vertical-align: middle;\n",
       "    }\n",
       "\n",
       "    .dataframe tbody tr th {\n",
       "        vertical-align: top;\n",
       "    }\n",
       "\n",
       "    .dataframe thead th {\n",
       "        text-align: right;\n",
       "    }\n",
       "</style>\n",
       "<table border=\"1\" class=\"dataframe\">\n",
       "  <thead>\n",
       "    <tr style=\"text-align: right;\">\n",
       "      <th></th>\n",
       "      <th>x0</th>\n",
       "      <th>x1</th>\n",
       "      <th>x2</th>\n",
       "      <th>x3</th>\n",
       "      <th>x4</th>\n",
       "      <th>x5</th>\n",
       "      <th>y</th>\n",
       "    </tr>\n",
       "  </thead>\n",
       "  <tbody>\n",
       "    <tr>\n",
       "      <th>0</th>\n",
       "      <td>2.337701</td>\n",
       "      <td>-0.681121</td>\n",
       "      <td>1.883774</td>\n",
       "      <td>0.949812</td>\n",
       "      <td>-0.311507</td>\n",
       "      <td>-100.0</td>\n",
       "      <td>1</td>\n",
       "    </tr>\n",
       "    <tr>\n",
       "      <th>1</th>\n",
       "      <td>1.101249</td>\n",
       "      <td>-2.032961</td>\n",
       "      <td>0.344490</td>\n",
       "      <td>0.724925</td>\n",
       "      <td>1.355534</td>\n",
       "      <td>-100.0</td>\n",
       "      <td>2</td>\n",
       "    </tr>\n",
       "    <tr>\n",
       "      <th>2</th>\n",
       "      <td>1.791349</td>\n",
       "      <td>-2.808856</td>\n",
       "      <td>-1.409471</td>\n",
       "      <td>0.552069</td>\n",
       "      <td>0.433901</td>\n",
       "      <td>100.0</td>\n",
       "      <td>2</td>\n",
       "    </tr>\n",
       "    <tr>\n",
       "      <th>3</th>\n",
       "      <td>2.082599</td>\n",
       "      <td>0.811498</td>\n",
       "      <td>0.906920</td>\n",
       "      <td>-0.749352</td>\n",
       "      <td>1.974424</td>\n",
       "      <td>-100.0</td>\n",
       "      <td>2</td>\n",
       "    </tr>\n",
       "    <tr>\n",
       "      <th>4</th>\n",
       "      <td>1.214627</td>\n",
       "      <td>-0.448392</td>\n",
       "      <td>1.812024</td>\n",
       "      <td>0.429543</td>\n",
       "      <td>0.396450</td>\n",
       "      <td>-100.0</td>\n",
       "      <td>1</td>\n",
       "    </tr>\n",
       "  </tbody>\n",
       "</table>\n",
       "</div>"
      ],
      "text/plain": [
       "         x0        x1        x2        x3        x4     x5  y\n",
       "0  2.337701 -0.681121  1.883774  0.949812 -0.311507 -100.0  1\n",
       "1  1.101249 -2.032961  0.344490  0.724925  1.355534 -100.0  2\n",
       "2  1.791349 -2.808856 -1.409471  0.552069  0.433901  100.0  2\n",
       "3  2.082599  0.811498  0.906920 -0.749352  1.974424 -100.0  2\n",
       "4  1.214627 -0.448392  1.812024  0.429543  0.396450 -100.0  1"
      ]
     },
     "execution_count": 6,
     "metadata": {},
     "output_type": "execute_result"
    }
   ],
   "source": [
    "df_test.head()"
   ]
  },
  {
   "cell_type": "code",
   "execution_count": 7,
   "id": "bb082792",
   "metadata": {},
   "outputs": [
    {
     "name": "stdout",
     "output_type": "stream",
     "text": [
      "[[  -0.33348927   -0.7702077    -2.69748604   -0.62856274   -1.27772042\n",
      "   100.        ]\n",
      " [  -0.7871239     1.23080016    1.41547226   -0.8059272     0.1751147\n",
      "   100.        ]\n",
      " [   0.78119711   -0.85622725    2.13887864    2.49541712    0.86819164\n",
      "   100.        ]\n",
      " ...\n",
      " [   1.19101444   -1.72465036   -1.17854745   -1.54881816   -1.51740071\n",
      "  -100.        ]\n",
      " [  -2.03358571   -0.23977122    1.21509471    0.86023614    0.69816843\n",
      "   100.        ]\n",
      " [   0.15125519   -1.21711969    2.77498591    0.7090941     0.89159205\n",
      "  -100.        ]]\n",
      "[2 1 1 ... 2 1 1]\n"
     ]
    }
   ],
   "source": [
    "y = df[\"y\"].values\n",
    "df.drop(columns=[\"y\"], inplace=True)\n",
    "X = df.values\n",
    "\n",
    "y_test = df_test[\"y\"].values\n",
    "df_test.drop(columns=[\"y\"], inplace=True)\n",
    "X_test = df_test.values\n",
    "\n",
    "print(X)\n",
    "print(y)"
   ]
  },
  {
   "cell_type": "markdown",
   "id": "93dae00e",
   "metadata": {},
   "source": [
    "Here's a simple plot of the first two features, colored by class. Visualizing the dataset may be helpful to you in this assignment, but can be tricky with 6-dimensional features!"
   ]
  },
  {
   "cell_type": "code",
   "execution_count": 8,
   "id": "ee220714",
   "metadata": {},
   "outputs": [
    {
     "data": {
      "text/plain": [
       "<matplotlib.collections.PathCollection at 0x7f93c172f7c0>"
      ]
     },
     "execution_count": 8,
     "metadata": {},
     "output_type": "execute_result"
    },
    {
     "data": {
      "image/png": "[encoded data removed]",
      "text/plain": [
       "<Figure size 432x288 with 1 Axes>"
      ]
     },
     "metadata": {
      "needs_background": "light"
     },
     "output_type": "display_data"
    }
   ],
   "source": [
    "plt.scatter(X[:,0], X[:,1], c=list(y))"
   ]
  },
  {
   "cell_type": "markdown",
   "id": "e22b2088",
   "metadata": {},
   "source": [
    "# Improve ML Model via data-centric techniques"
   ]
  },
  {
   "cell_type": "markdown",
   "id": "7f90b04e",
   "metadata": {},
   "source": [
    "We train a simple neural network model (Multi-Layer Perceptron classifier) and evaluate it on the given test set. \n",
    "Note that the evaluation metric used is `balanced_accuracy`. This is the accuracy amongst all examples in a given class, averaged over all classes, which better represents performance on minority classes.\n",
    "\n",
    "You should never change the test data labels `y_test` in this lab, nor the neural network model. You may change the training data `X`, `y` as you see fit, and update `X_test` accordingly so your model is able to make predictions on it."
   ]
  },
  {
   "cell_type": "code",
   "execution_count": 9,
   "id": "e44ea5c3",
   "metadata": {},
   "outputs": [],
   "source": [
    "def train_evaluate_model(X, y, X_test, y_test):\n",
    "    model = MLPClassifier(early_stopping=True, random_state=SEED)\n",
    "    model.fit(X, y)\n",
    "    predictions = model.predict(X_test)\n",
    "    acc = balanced_accuracy_score(y_true=y_test, y_pred=predictions)\n",
    "    print(f\"Balanced accuracy = {acc}\")\n",
    "    return predictions"
   ]
  },
  {
   "cell_type": "markdown",
   "id": "d967913e",
   "metadata": {},
   "source": [
    "A baseline version of the model is trained on the original given data:"
   ]
  },
  {
   "cell_type": "code",
   "execution_count": 10,
   "id": "0bda77e4",
   "metadata": {},
   "outputs": [
    {
     "name": "stdout",
     "output_type": "stream",
     "text": [
      "Balanced accuracy = 0.5759397707696671\n"
     ]
    }
   ],
   "source": [
    "predictions = train_evaluate_model(X, y, X_test, y_test)"
   ]
  },
  {
   "cell_type": "markdown",
   "id": "10c576fb",
   "metadata": {},
   "source": [
    "# Exercise\n",
    "\n",
    "Your goal is to produce a version of this same model that has much better test accuracy! \n",
    "You should accomplish this by changing `X` and `y` as you see fit. Consider various ideas presented in the lecture and look through the data yourself to see if other ideas come to mind! Greater than 80% test accuracy is achievable without modifying the model at all. If you choose to drop/add features to `X` or renormalize some values, then you'll want to apply these operations to `X_test` as well."
   ]
  },
  {
   "cell_type": "code",
   "execution_count": 11,
   "id": "56097167",
   "metadata": {},
   "outputs": [
    {
     "data": {
      "image/png": "[encoded data removed]",
      "text/plain": [
       "<Figure size 720x720 with 6 Axes>"
      ]
     },
     "metadata": {
      "needs_background": "light"
     },
     "output_type": "display_data"
    }
   ],
   "source": [
    "## TODO: find my_X, my_y such that train_evaluate_model(my_X, my_y, X_test, y_test)\n",
    "## reports better (higher) performance.\n",
    "\n",
    "# View histogram for each feature\n",
    "df.hist(bins=50, figsize=(10, 10));"
   ]
  },
  {
   "cell_type": "code",
   "execution_count": 12,
   "id": "b6c7bb2c",
   "metadata": {},
   "outputs": [
    {
     "data": {
      "text/html": [
       "<div>\n",
       "<style scoped>\n",
       "    .dataframe tbody tr th:only-of-type {\n",
       "        vertical-align: middle;\n",
       "    }\n",
       "\n",
       "    .dataframe tbody tr th {\n",
       "        vertical-align: top;\n",
       "    }\n",
       "\n",
       "    .dataframe thead th {\n",
       "        text-align: right;\n",
       "    }\n",
       "</style>\n",
       "<table border=\"1\" class=\"dataframe\">\n",
       "  <thead>\n",
       "    <tr style=\"text-align: right;\">\n",
       "      <th></th>\n",
       "      <th>Mean</th>\n",
       "      <th>STD</th>\n",
       "      <th>Kurtosis</th>\n",
       "      <th>Skew</th>\n",
       "    </tr>\n",
       "  </thead>\n",
       "  <tbody>\n",
       "    <tr>\n",
       "      <th>x0</th>\n",
       "      <td>0.484252</td>\n",
       "      <td>1.022459</td>\n",
       "      <td>0.022668</td>\n",
       "      <td>0.008774</td>\n",
       "    </tr>\n",
       "    <tr>\n",
       "      <th>x1</th>\n",
       "      <td>-0.685748</td>\n",
       "      <td>1.580002</td>\n",
       "      <td>13.452997</td>\n",
       "      <td>-2.377715</td>\n",
       "    </tr>\n",
       "    <tr>\n",
       "      <th>x2</th>\n",
       "      <td>0.596566</td>\n",
       "      <td>1.619642</td>\n",
       "      <td>-0.424534</td>\n",
       "      <td>-0.500949</td>\n",
       "    </tr>\n",
       "    <tr>\n",
       "      <th>x3</th>\n",
       "      <td>0.516451</td>\n",
       "      <td>1.114649</td>\n",
       "      <td>-0.043018</td>\n",
       "      <td>0.006612</td>\n",
       "    </tr>\n",
       "    <tr>\n",
       "      <th>x4</th>\n",
       "      <td>0.573844</td>\n",
       "      <td>1.129232</td>\n",
       "      <td>0.159686</td>\n",
       "      <td>-0.035543</td>\n",
       "    </tr>\n",
       "    <tr>\n",
       "      <th>x5</th>\n",
       "      <td>0.878553</td>\n",
       "      <td>100.009063</td>\n",
       "      <td>-2.000725</td>\n",
       "      <td>-0.017579</td>\n",
       "    </tr>\n",
       "  </tbody>\n",
       "</table>\n",
       "</div>"
      ],
      "text/plain": [
       "        Mean         STD   Kurtosis      Skew\n",
       "x0  0.484252    1.022459   0.022668  0.008774\n",
       "x1 -0.685748    1.580002  13.452997 -2.377715\n",
       "x2  0.596566    1.619642  -0.424534 -0.500949\n",
       "x3  0.516451    1.114649  -0.043018  0.006612\n",
       "x4  0.573844    1.129232   0.159686 -0.035543\n",
       "x5  0.878553  100.009063  -2.000725 -0.017579"
      ]
     },
     "execution_count": 12,
     "metadata": {},
     "output_type": "execute_result"
    }
   ],
   "source": [
    "# Create DataFrame to ananlyse features\n",
    "cols= ['Mean', 'STD', 'Kurtosis', 'Skew']\n",
    "feats_df = pd.concat([df.mean(), df.std(), df.kurtosis(), df.skew()], axis=1)\n",
    "feats_df.columns = cols\n",
    "feats_df"
   ]
  },
  {
   "cell_type": "markdown",
   "id": "956bc1ab",
   "metadata": {},
   "source": [
    "We can see from the above that:\n",
    "- x5 can probably be dropped due to such high STD and extreme range\n",
    "- x1 is skewed and has high kurtosis which could probably be improved by taking log-transform"
   ]
  },
  {
   "cell_type": "code",
   "execution_count": 15,
   "id": "42f653b6",
   "metadata": {},
   "outputs": [
    {
     "name": "stdout",
     "output_type": "stream",
     "text": [
      "Balanced accuracy = 0.6971385953816448\n"
     ]
    }
   ],
   "source": [
    "my_X = X[:, :5]\n",
    "X_test = X_test[:, :5]\n",
    "\n",
    "new_preds = train_evaluate_model(my_X, y, X_test, y_test)"
   ]
  },
  {
   "cell_type": "code",
   "execution_count": 16,
   "id": "77869dfc",
   "metadata": {},
   "outputs": [
    {
     "name": "stdout",
     "output_type": "stream",
     "text": [
      "Class: 0, count: 171, class-acc: 1.17%\n",
      "Class: 1, count: 1821, class-acc: 86.77%\n",
      "Class: 2, count: 1828, class-acc: 84.85%\n"
     ]
    }
   ],
   "source": [
    "# Comparing accuracy of each class\n",
    "for i in range(3):\n",
    "    indices = y_test == i\n",
    "    acc = (y_test[indices] == predictions[indices]).mean()\n",
    "    print(f'Class: {i}, count: {sum(indices)}, class-acc: {acc:.2%}')"
   ]
  },
  {
   "cell_type": "markdown",
   "id": "d63938fd",
   "metadata": {},
   "source": [
    "We can see from the above that class-0 is performing very poorly, the count is low so we should think about upweighting this. "
   ]
  },
  {
   "cell_type": "code",
   "execution_count": 18,
   "id": "43324f7c",
   "metadata": {},
   "outputs": [
    {
     "name": "stdout",
     "output_type": "stream",
     "text": [
      "Balanced accuracy = 0.8158413338744501\n"
     ]
    }
   ],
   "source": [
    "# Trying upweighting class 0\n",
    "zero_class_X = my_X[y == 0].copy()\n",
    "zero_class_y = y[y == 0].copy()\n",
    "\n",
    "my_y = y.copy()\n",
    "upweight_factor = 5\n",
    "for _ in range(upweight_factor):\n",
    "    my_X = np.vstack([my_X, zero_class_X])\n",
    "    my_y = np.append(my_y, zero_class_y, axis=0)\n",
    "\n",
    "new_preds = train_evaluate_model(my_X, my_y, X_test, y_test)"
   ]
  },
  {
   "cell_type": "code",
   "execution_count": null,
   "id": "a7a3692c",
   "metadata": {},
   "outputs": [],
   "source": []
  }
 ],
 "metadata": {
  "kernelspec": {
   "display_name": "Python 3 (ipykernel)",
   "language": "python",
   "name": "python3"
  },
  "language_info": {
   "codemirror_mode": {
    "name": "ipython",
    "version": 3
   },
   "file_extension": ".py",
   "mimetype": "text/x-python",
   "name": "python",
   "nbconvert_exporter": "python",
   "pygments_lexer": "ipython3",
   "version": "3.9.16"
  }
 },
 "nbformat": 4,
 "nbformat_minor": 5
}
