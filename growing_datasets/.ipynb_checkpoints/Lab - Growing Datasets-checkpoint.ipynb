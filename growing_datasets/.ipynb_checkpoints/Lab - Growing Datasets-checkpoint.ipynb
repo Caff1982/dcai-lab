{
 "cells": [
  {
   "cell_type": "markdown",
   "id": "a6f14f0e",
   "metadata": {},
   "source": [
    "# Lab -- Growing Dataset with Active (Machine) Learning\n",
    "\n",
    "Intended to accompany the lecture on Growing or Compressing Datasets, this notebook contains exercises to build labeled training datasets for binary classification through active learning.\n",
    "\n",
    "You may find it helpful to first install the following dependencies:"
   ]
  },
  {
   "cell_type": "code",
   "execution_count": 1,
   "id": "b8e1a8c4",
   "metadata": {},
   "outputs": [
    {
     "name": "stdout",
     "output_type": "stream",
     "text": [
      "Requirement already satisfied: faiss-cpu in /home/stephen/Projects/DataScience/env3.9/lib/python3.9/site-packages (1.7.3)\n",
      "Requirement already satisfied: pyarrow in /home/stephen/Projects/DataScience/env3.9/lib/python3.9/site-packages (9.0.0)\n",
      "Requirement already satisfied: pandas in /home/stephen/Projects/DataScience/env3.9/lib/python3.9/site-packages (1.4.1)\n",
      "Requirement already satisfied: matplotlib in /home/stephen/Projects/DataScience/env3.9/lib/python3.9/site-packages (3.6.2)\n",
      "Requirement already satisfied: scikit-learn in /home/stephen/Projects/DataScience/env3.9/lib/python3.9/site-packages (1.1.2)\n",
      "Requirement already satisfied: torch in /home/stephen/Projects/DataScience/env3.9/lib/python3.9/site-packages (1.12.1)\n",
      "Requirement already satisfied: tqdm in /home/stephen/Projects/DataScience/env3.9/lib/python3.9/site-packages (4.64.1)\n",
      "Requirement already satisfied: numpy>=1.16.6 in /home/stephen/Projects/DataScience/env3.9/lib/python3.9/site-packages (from pyarrow) (1.22.3)\n",
      "Requirement already satisfied: pytz>=2020.1 in /home/stephen/Projects/DataScience/env3.9/lib/python3.9/site-packages (from pandas) (2022.1)\n",
      "Requirement already satisfied: python-dateutil>=2.8.1 in /home/stephen/Projects/DataScience/env3.9/lib/python3.9/site-packages (from pandas) (2.8.2)\n",
      "Requirement already satisfied: fonttools>=4.22.0 in /home/stephen/Projects/DataScience/env3.9/lib/python3.9/site-packages (from matplotlib) (4.31.2)\n",
      "Requirement already satisfied: pyparsing>=2.2.1 in /home/stephen/Projects/DataScience/env3.9/lib/python3.9/site-packages (from matplotlib) (3.0.7)\n",
      "Requirement already satisfied: kiwisolver>=1.0.1 in /home/stephen/Projects/DataScience/env3.9/lib/python3.9/site-packages (from matplotlib) (1.4.0)\n",
      "Requirement already satisfied: packaging>=20.0 in /home/stephen/Projects/DataScience/env3.9/lib/python3.9/site-packages (from matplotlib) (21.3)\n",
      "Requirement already satisfied: pillow>=6.2.0 in /home/stephen/Projects/DataScience/env3.9/lib/python3.9/site-packages (from matplotlib) (9.0.1)\n",
      "Requirement already satisfied: contourpy>=1.0.1 in /home/stephen/Projects/DataScience/env3.9/lib/python3.9/site-packages (from matplotlib) (1.0.5)\n",
      "Requirement already satisfied: cycler>=0.10 in /home/stephen/Projects/DataScience/env3.9/lib/python3.9/site-packages (from matplotlib) (0.11.0)\n",
      "Requirement already satisfied: threadpoolctl>=2.0.0 in /home/stephen/Projects/DataScience/env3.9/lib/python3.9/site-packages (from scikit-learn) (3.1.0)\n",
      "Requirement already satisfied: scipy>=1.3.2 in /home/stephen/Projects/DataScience/env3.9/lib/python3.9/site-packages (from scikit-learn) (1.8.0)\n",
      "Requirement already satisfied: joblib>=1.0.0 in /home/stephen/Projects/DataScience/env3.9/lib/python3.9/site-packages (from scikit-learn) (1.1.0)\n",
      "Requirement already satisfied: typing-extensions in /home/stephen/Projects/DataScience/env3.9/lib/python3.9/site-packages (from torch) (4.3.0)\n",
      "Requirement already satisfied: six>=1.5 in /home/stephen/Projects/DataScience/env3.9/lib/python3.9/site-packages (from python-dateutil>=2.8.1->pandas) (1.16.0)\n",
      "\n",
      "\u001b[1m[\u001b[0m\u001b[34;49mnotice\u001b[0m\u001b[1;39;49m]\u001b[0m\u001b[39;49m A new release of pip available: \u001b[0m\u001b[31;49m22.3.1\u001b[0m\u001b[39;49m -> \u001b[0m\u001b[32;49m23.0.1\u001b[0m\n",
      "\u001b[1m[\u001b[0m\u001b[34;49mnotice\u001b[0m\u001b[1;39;49m]\u001b[0m\u001b[39;49m To update, run: \u001b[0m\u001b[32;49mpip install --upgrade pip\u001b[0m\n"
     ]
    }
   ],
   "source": [
    "!pip install faiss-cpu pyarrow pandas matplotlib scikit-learn torch tqdm"
   ]
  },
  {
   "cell_type": "code",
   "execution_count": 2,
   "id": "6096ec1a",
   "metadata": {},
   "outputs": [
    {
     "name": "stderr",
     "output_type": "stream",
     "text": [
      "/tmp/ipykernel_12736/1857601726.py:17: DeprecationWarning: Importing display from IPython.core.display is deprecated since IPython 7.14, please import from IPython display\n",
      "  from IPython.core.display import Image, display, clear_output\n",
      "/tmp/ipykernel_12736/1857601726.py:17: DeprecationWarning: Importing clear_output from IPython.core.display is deprecated since IPython 7.14, please import from IPython display\n",
      "  from IPython.core.display import Image, display, clear_output\n"
     ]
    }
   ],
   "source": [
    "import os\n",
    "import time\n",
    "import random\n",
    "from glob import glob\n",
    "from datetime import datetime\n",
    "from typing import List, Tuple, Optional, Callable\n",
    "\n",
    "import faiss  # Must import faiss before everything else\n",
    "import numpy as np\n",
    "import pandas as pd\n",
    "from torch.utils.data import Dataset\n",
    "from tqdm.notebook import tqdm\n",
    "from sklearn import linear_model\n",
    "import matplotlib.pyplot as plt\n",
    "from sklearn.metrics import average_precision_score\n",
    "from sklearn.linear_model import LogisticRegression\n",
    "from IPython.core.display import Image, display, clear_output"
   ]
  },
  {
   "cell_type": "markdown",
   "id": "9e6fb5ff",
   "metadata": {},
   "source": [
    "# Section 1: 1D Classifier\n",
    "\n",
    "First, let's go through the toy 1D example from lecture."
   ]
  },
  {
   "cell_type": "code",
   "execution_count": 26,
   "id": "e9c0ea0d",
   "metadata": {},
   "outputs": [],
   "source": [
    "# Generate random data for two classes\n",
    "np.random.seed(2)\n",
    "x1 = np.random.normal(-2, 1, 100)\n",
    "x2 = np.random.normal(2, 1, 100)\n",
    "boundary = 0\n",
    "seed = np.array([(boundary + 2 + (random.random() * 2)),\n",
    "                 (boundary - 2 - (random.random() * 2))])\n",
    "x = np.concatenate([seed, x1, x2])\n",
    "labeled_0 = np.arange(len(seed))\n",
    "\n",
    "\n",
    "# This is a simple case, so labeling is easy and cheap.\n",
    "# But this isn't the case in practice. A real 'label' function would\n",
    "# request information from humans or an expensive process.\n",
    "def label(example):\n",
    "    return int(example > boundary)\n",
    "\n",
    "\n",
    "# Helper functions for plotting\n",
    "def color(label):\n",
    "    return 'r' if label else 'b'\n",
    "\n",
    "\n",
    "def plot_boundary(ax):\n",
    "    ax.axvline(x=boundary, color='gray', linestyle='--')\n",
    "    \n",
    "    \n",
    "def plot_labeled(ax, x, labeled, labels):\n",
    "    ax.scatter(x, np.zeros(len(x)), c='gray', alpha=0.2)\n",
    "    ax.scatter(x[labeled], np.zeros(len(labeled)), c=[color(l) for l in labels], s=200, alpha=0.5)\n",
    "    ax.axvline(x=boundary, color='gray', linestyle='--')\n",
    "    ax.set_axis_off()"
   ]
  },
  {
   "cell_type": "markdown",
   "id": "9baa7aec",
   "metadata": {},
   "source": [
    "## Passive Learning (Random Sampling)\n",
    "Passive learning simply samples unlabeled examples at random. It doesn't adapt to the model or the data, so we have to hope that we get examples that help us close in on the decision boundary.\n",
    "\n",
    "In the figures below, gray dots represent unlabeled examples, red & blue dots represent the labeled examples for the two classes, and the dashed gray line is the actual decision boundary."
   ]
  },
  {
   "cell_type": "code",
   "execution_count": 27,
   "id": "59f6eef3",
   "metadata": {},
   "outputs": [],
   "source": [
    "def passive_selection(x, labeled, label_func, n):\n",
    "    candidates = set(range(0, len(x))) - set(labeled)\n",
    "    labeled = np.concatenate([labeled, random.sample(list(candidates), n)])\n",
    "    labels = [label_func(example) for example in x[labeled]]\n",
    "    return labeled, labels"
   ]
  },
  {
   "cell_type": "code",
   "execution_count": 28,
   "id": "6fb3d635",
   "metadata": {},
   "outputs": [
    {
     "name": "stdout",
     "output_type": "stream",
     "text": [
      "Round 0: 2 labeled examples\n"
     ]
    },
    {
     "data": {
      "image/png": "[encoded data removed]",
      "text/plain": [
       "<Figure size 432x72 with 1 Axes>"
      ]
     },
     "metadata": {
      "needs_background": "light"
     },
     "output_type": "display_data"
    },
    {
     "name": "stdout",
     "output_type": "stream",
     "text": [
      "Round 1: 3 labeled examples\n"
     ]
    },
    {
     "data": {
      "image/png": "[encoded data removed]",
      "text/plain": [
       "<Figure size 432x72 with 1 Axes>"
      ]
     },
     "metadata": {
      "needs_background": "light"
     },
     "output_type": "display_data"
    },
    {
     "name": "stdout",
     "output_type": "stream",
     "text": [
      "Round 2: 4 labeled examples\n"
     ]
    },
    {
     "data": {
      "image/png": "[encoded data removed]",
      "text/plain": [
       "<Figure size 432x72 with 1 Axes>"
      ]
     },
     "metadata": {
      "needs_background": "light"
     },
     "output_type": "display_data"
    },
    {
     "name": "stdout",
     "output_type": "stream",
     "text": [
      "Round 3: 5 labeled examples\n"
     ]
    },
    {
     "data": {
      "image/png": "[encoded data removed]",
      "text/plain": [
       "<Figure size 432x72 with 1 Axes>"
      ]
     },
     "metadata": {
      "needs_background": "light"
     },
     "output_type": "display_data"
    },
    {
     "name": "stdout",
     "output_type": "stream",
     "text": [
      "Round 4: 6 labeled examples\n"
     ]
    },
    {
     "data": {
      "image/png": "[encoded data removed]",
      "text/plain": [
       "<Figure size 432x72 with 1 Axes>"
      ]
     },
     "metadata": {
      "needs_background": "light"
     },
     "output_type": "display_data"
    },
    {
     "name": "stdout",
     "output_type": "stream",
     "text": [
      "Round 5: 7 labeled examples\n"
     ]
    },
    {
     "data": {
      "image/png": "[encoded data removed]",
      "text/plain": [
       "<Figure size 432x72 with 1 Axes>"
      ]
     },
     "metadata": {
      "needs_background": "light"
     },
     "output_type": "display_data"
    },
    {
     "name": "stdout",
     "output_type": "stream",
     "text": [
      "Round 6: 8 labeled examples\n"
     ]
    },
    {
     "data": {
      "image/png": "[encoded data removed]",
      "text/plain": [
       "<Figure size 432x72 with 1 Axes>"
      ]
     },
     "metadata": {
      "needs_background": "light"
     },
     "output_type": "display_data"
    },
    {
     "name": "stdout",
     "output_type": "stream",
     "text": [
      "Round 7: 9 labeled examples\n"
     ]
    },
    {
     "data": {
      "image/png": "[encoded data removed]",
      "text/plain": [
       "<Figure size 432x72 with 1 Axes>"
      ]
     },
     "metadata": {
      "needs_background": "light"
     },
     "output_type": "display_data"
    }
   ],
   "source": [
    "n = 8\n",
    "labeled, labels = passive_selection(x, labeled_0, label, n)\n",
    "for i in range(n):\n",
    "    print(f\"Round {i}: {2+i} labeled examples\")\n",
    "    fig, ax = plt.subplots(1, 1, figsize=(6, 1))\n",
    "    plot_labeled(ax, x, labeled[:2+i], labels[:2+i])\n",
    "    plot_boundary(ax)\n",
    "    plt.show()"
   ]
  },
  {
   "cell_type": "markdown",
   "id": "685512fc",
   "metadata": {},
   "source": [
    "## Exercise 1: Active Learning (Max Entropy)\n",
    "Active learning trains a model $A_r$ after every example $\\mathbf{x}$ (or batch of examples) is labeled and leverages that model to select the following example. For instance, we can quantify the model's uncertainty by calculating the entropy for each of the pool of unlabeled examples $\\mathcal{P}_r$ based on the model's predicted probabilities:\n",
    "\n",
    "$$\\phi_{\\text{Ent}}(\\mathbf{x}, A_r) = - \\sum_{\\hat{y}} P(\\hat{y}|\\mathbf{x}; A_r) \\log P(\\hat{y}|\\mathbf{x}; A_r)$$\n",
    "\n",
    "and select the examples with the highest entropy:\n",
    "\n",
    "$$argmax_{\\mathbf{x} \\in \\mathcal{P}_r} \\phi_{\\text{Ent}}(\\mathbf{x}, A_r, \\mathcal{P}_r)$$"
   ]
  },
  {
   "cell_type": "code",
   "execution_count": 38,
   "id": "bbef1f1d",
   "metadata": {},
   "outputs": [],
   "source": [
    "def select_max_entropy(x, model, indices: List[int], budget: int):\n",
    "    # print('indices: ', indices)\n",
    "    # Get prediction probability for elegible indices\n",
    "    proba = model.predict_proba(x[indices].reshape(-1, 1))\n",
    "\n",
    "    # Calculate information entropy from probabilities\n",
    "    entropy = -1.0 * (np.log(proba) * proba).sum(axis=1)\n",
    "\n",
    "    # Select indices with highest entropy (i.e. MaxEnt)\n",
    "    selected = entropy.argsort(axis=0)[::-1][:budget]\n",
    "\n",
    "    # Convert to original index\n",
    "    selected = np.array(indices)[selected]\n",
    "\n",
    "    return selected"
   ]
  },
  {
   "cell_type": "markdown",
   "id": "7a294044",
   "metadata": {},
   "source": [
    "In this exercise, you'll leverage this max entropy heuristic to actively select examples to label! You should implement the active learning loop from lecture with a `linear_model.LogisticRegression()` as the classifier. This should effectively perform binary search to find the decision boundary. You just need to fill in the section below marked `YOUR CODE HERE`."
   ]
  },
  {
   "cell_type": "code",
   "execution_count": 39,
   "id": "a022fe72",
   "metadata": {},
   "outputs": [],
   "source": [
    "from sklearn.linear_model import LogisticRegression\n",
    "\n",
    "\n",
    "def active_selection(x, labeled, label_func, n):\n",
    "    labels = [label_func(example) for example in x[labeled]]\n",
    "    candidates = set(np.arange(len(x))) - set(labeled)\n",
    "    \n",
    "    for i in range(n):\n",
    "        model = LogisticRegression()\n",
    "        # print(x.shape, len(labels))\n",
    "        model.fit(x[labeled].reshape(-1, 1), labels)\n",
    "    \n",
    "        selected = select_max_entropy(x, model, list(candidates), 1)\n",
    "        labeled = np.concatenate([labeled, selected])\n",
    "    \n",
    "        new_labels = [label_func(x[i]) for i in selected]\n",
    "        labels = np.concatenate([labels, new_labels])\n",
    "        \n",
    "        for item in selected:\n",
    "            candidates.remove(item)\n",
    "\n",
    "    return labeled, labels"
   ]
  },
  {
   "cell_type": "markdown",
   "id": "bad1afa0",
   "metadata": {},
   "source": [
    "Let's put your active selection process into action! In the figures below, gray dots represent unlabeled examples, red & blue dots represent the labeled examples for the two classes, and the dashed gray line is the actual decision boundary. Rounds 1+ will show the results of your active learning implementation. How does it compare to the passive approach?"
   ]
  },
  {
   "cell_type": "code",
   "execution_count": 40,
   "id": "8ff27738",
   "metadata": {},
   "outputs": [],
   "source": [
    "labeled, labels = active_selection(x, labeled_0, label, n)"
   ]
  },
  {
   "cell_type": "code",
   "execution_count": 41,
   "id": "bb2a2dd3",
   "metadata": {},
   "outputs": [
    {
     "name": "stdout",
     "output_type": "stream",
     "text": [
      "Round 0: 2 labeled examples\n"
     ]
    },
    {
     "data": {
      "image/png": "[encoded data removed]",
      "text/plain": [
       "<Figure size 432x72 with 1 Axes>"
      ]
     },
     "metadata": {
      "needs_background": "light"
     },
     "output_type": "display_data"
    },
    {
     "name": "stdout",
     "output_type": "stream",
     "text": [
      "Round 1: 3 labeled examples\n"
     ]
    },
    {
     "data": {
      "image/png": "[encoded data removed]",
      "text/plain": [
       "<Figure size 432x72 with 1 Axes>"
      ]
     },
     "metadata": {
      "needs_background": "light"
     },
     "output_type": "display_data"
    },
    {
     "name": "stdout",
     "output_type": "stream",
     "text": [
      "Round 2: 4 labeled examples\n"
     ]
    },
    {
     "data": {
      "image/png": "[encoded data removed]",
      "text/plain": [
       "<Figure size 432x72 with 1 Axes>"
      ]
     },
     "metadata": {
      "needs_background": "light"
     },
     "output_type": "display_data"
    },
    {
     "name": "stdout",
     "output_type": "stream",
     "text": [
      "Round 3: 5 labeled examples\n"
     ]
    },
    {
     "data": {
      "image/png": "[encoded data removed]",
      "text/plain": [
       "<Figure size 432x72 with 1 Axes>"
      ]
     },
     "metadata": {
      "needs_background": "light"
     },
     "output_type": "display_data"
    },
    {
     "name": "stdout",
     "output_type": "stream",
     "text": [
      "Round 4: 6 labeled examples\n"
     ]
    },
    {
     "data": {
      "image/png": "[encoded data removed]",
      "text/plain": [
       "<Figure size 432x72 with 1 Axes>"
      ]
     },
     "metadata": {
      "needs_background": "light"
     },
     "output_type": "display_data"
    },
    {
     "name": "stdout",
     "output_type": "stream",
     "text": [
      "Round 5: 7 labeled examples\n"
     ]
    },
    {
     "data": {
      "image/png": "[encoded data removed]",
      "text/plain": [
       "<Figure size 432x72 with 1 Axes>"
      ]
     },
     "metadata": {
      "needs_background": "light"
     },
     "output_type": "display_data"
    },
    {
     "name": "stdout",
     "output_type": "stream",
     "text": [
      "Round 6: 8 labeled examples\n"
     ]
    },
    {
     "data": {
      "image/png": "[encoded data removed]",
      "text/plain": [
       "<Figure size 432x72 with 1 Axes>"
      ]
     },
     "metadata": {
      "needs_background": "light"
     },
     "output_type": "display_data"
    },
    {
     "name": "stdout",
     "output_type": "stream",
     "text": [
      "Round 7: 9 labeled examples\n"
     ]
    },
    {
     "data": {
      "image/png": "[encoded data removed]",
      "text/plain": [
       "<Figure size 432x72 with 1 Axes>"
      ]
     },
     "metadata": {
      "needs_background": "light"
     },
     "output_type": "display_data"
    }
   ],
   "source": [
    "n = 8\n",
    "labeled, labels = active_selection(x, labeled_0, label, n)\n",
    "for i in range(n):\n",
    "    print(f\"Round {i}: {2+i} labeled examples\")\n",
    "    fig, ax = plt.subplots(1, 1, figsize=(6, 1))\n",
    "    plot_labeled(ax, x, labeled[:2+i], labels[:2+i])\n",
    "    plot_boundary(ax)\n",
    "    plt.show()"
   ]
  },
  {
   "cell_type": "markdown",
   "id": "145c5e27",
   "metadata": {},
   "source": [
    "# Section 2: OpenImages"
   ]
  },
  {
   "cell_type": "markdown",
   "id": "a36cd68e",
   "metadata": {},
   "source": [
    "Let's scale up active learning to a real dataset, [OpenImages](https://storage.googleapis.com/openimages/web/index.html)! The OpenImages dataset has over 8 million images from Flickr and captures tens of thousands of classes. To make this manageable for our lab assignment, we will train a `LogisticRegression()` classifier on top of pre-computed embeddings for the available images. Please download and unpack the embeddings.\n",
    "\n",
    "1. [Download embeddings](https://drive.google.com/file/d/1HLEI7OWDGfP-__w6vlnZjgOCo5fshP-7/view?usp=sharing) (~18 GB)\n",
    "2. Unpack embeddings: `tar -xvf data.tar.gz`"
   ]
  },
  {
   "cell_type": "code",
   "execution_count": 7,
   "id": "ce4bc30a",
   "metadata": {},
   "outputs": [],
   "source": [
    "# Assuming you unpacked the data in the same directory\n",
    "# as this notebook, you shouldn't need to change this.\n",
    "metadata_dir='data/saved_metadata/'\n",
    "train_dir='data/saved_embeddings/train/'\n",
    "test_dir='data/saved_embeddings/test/'"
   ]
  },
  {
   "cell_type": "markdown",
   "id": "17d5e305",
   "metadata": {},
   "source": [
    "## Loading Data"
   ]
  },
  {
   "cell_type": "markdown",
   "id": "80e847a2",
   "metadata": {},
   "source": [
    "Don't worry about understanding all of this. You'll only use a small part of this class in the exercise below."
   ]
  },
  {
   "cell_type": "code",
   "execution_count": 8,
   "id": "f8ddbcb8",
   "metadata": {},
   "outputs": [],
   "source": [
    "class OpenImagesDataset(Dataset):\n",
    "    def __init__(self,\n",
    "                 metadata_dir: str,\n",
    "                 embeddings_dir: str,\n",
    "                 embeddings_include: str = '*.parquet.gzip',\n",
    "                 target_class: str = None,\n",
    "                 split: str ='train'):\n",
    "\n",
    "        # Save attributes\n",
    "        self._metadata_dir = metadata_dir\n",
    "        self._embeddings_dir = embeddings_dir\n",
    "        self._embeddings_include = embeddings_include\n",
    "        self._target_class = None\n",
    "\n",
    "        # Define paths of metadata files\n",
    "        assert split in ['train', 'test'], 'Invalid value for split'\n",
    "        label_path = os.path.join(metadata_dir, 'oidv6-class-descriptions.csv')\n",
    "        data_path = None\n",
    "        url_path = None\n",
    "\n",
    "        if split == 'train':\n",
    "            data_path = os.path.join(\n",
    "                metadata_dir,\n",
    "                'oidv6-train-annotations-human-imagelabels.csv')\n",
    "            url_path = os.path.join(\n",
    "                metadata_dir,\n",
    "                'oidv6-train-images-with-labels-with-rotation.csv')\n",
    "\n",
    "        elif split == 'test':\n",
    "            data_path = os.path.join(\n",
    "                metadata_dir,\n",
    "                'test-annotations-human-imagelabels.csv')\n",
    "            url_path = os.path.join(\n",
    "                metadata_dir,\n",
    "                'test-images-with-rotation.csv')\n",
    "\n",
    "        # Load metadata\n",
    "        print('Loading metadata...', end=' ')\n",
    "        self._label_df = pd.read_csv(label_path)\n",
    "\n",
    "        self._data_df = pd.read_csv(data_path)\n",
    "        self._data_df.drop('Source', axis=1, inplace=True)\n",
    "        self._data_df.set_index('ImageID', inplace=True)\n",
    "\n",
    "        self._url_df = pd.read_csv(url_path)\n",
    "        self._url_df = self._url_df[['ImageID', 'OriginalURL']]\n",
    "        self._url_df.set_index('ImageID', inplace=True)\n",
    "        print('Done.')\n",
    "\n",
    "        # Load embeddings\n",
    "        self._embeddings_df = self._load_embeddings_df()\n",
    "\n",
    "        # (optional) Load labels\n",
    "        if target_class is not None:\n",
    "            self.target_class = target_class\n",
    "\n",
    "    def to_numpy(self):\n",
    "        \"\"\"\n",
    "        Returns embeddings and labels\n",
    "        Important: does not make a copy of the data in memory\n",
    "        \"\"\"\n",
    "        return self.embeddings, self.labels\n",
    "\n",
    "    @property\n",
    "    def target_class(self):\n",
    "        return self._target_class\n",
    "\n",
    "    @property\n",
    "    def urls(self):\n",
    "        return self._embeddings_df.index.values\n",
    "\n",
    "    @property\n",
    "    def labels(self):\n",
    "        return self._labels_df.Confidence.values\n",
    "\n",
    "    @property\n",
    "    def index(self):\n",
    "        return self._embeddings_df.index.values\n",
    "\n",
    "    @property\n",
    "    def embeddings(self):\n",
    "        return self._embeddings_df.values\n",
    "\n",
    "    @property\n",
    "    def embeddings_dimension(self):\n",
    "        return self._embeddings_df.shape[1]\n",
    "\n",
    "    @target_class.setter\n",
    "    def target_class(self, target_class):\n",
    "        self._labels_df = self._load_labels_df(target_class)\n",
    "        self._target_class = target_class\n",
    "\n",
    "    def _load_labels_df(self, label: str):\n",
    "        \"\"\"\n",
    "        Loads metadata in metadata_dir for target_class\n",
    "        \"\"\"\n",
    "        # Get label name\n",
    "        label_name = self._label_df.query(f\"DisplayName == '{label}'\")[\n",
    "            'LabelName'].to_list()[0]\n",
    "\n",
    "        # Get labeled data given label\n",
    "        df = self._data_df.query(f\"LabelName == '{label_name}'\")\n",
    "\n",
    "        # Join with URL data\n",
    "        df = df.join(self._url_df, on='ImageID', how='left')\n",
    "\n",
    "        # Rename columns and reset index\n",
    "        df.reset_index(inplace=True)\n",
    "        df.rename(columns={'OriginalURL': 'img_path'}, inplace=True)\n",
    "        df.set_index('img_path', inplace=True)\n",
    "\n",
    "        # Align label index with embeddings index\n",
    "        df = df.reindex(self._embeddings_df.index, fill_value=0)\n",
    "\n",
    "        return df\n",
    "\n",
    "    def _load_embeddings_df(self):\n",
    "        \"\"\"\n",
    "        Loads embeddings from partitions in embeddings_dir with specified\n",
    "        pattern. Each embedding value is loaded into a separate column\n",
    "        such that embeddings.values returns the array necessary for\n",
    "        inference, which avoids creating a copy in memory of the data\n",
    "        \"\"\"\n",
    "        # Get paths of dfs in embeddings_dir with pattern\n",
    "        pattern = os.path.join(self._embeddings_dir,\n",
    "                               self._embeddings_include)\n",
    "        filepaths_ls = glob(pattern, recursive=True)\n",
    "        filepaths_ls.sort()\n",
    "\n",
    "        # Store all embedding values and indices\n",
    "        index_ls = []\n",
    "        values_ls = []\n",
    "        wrapped_loader = tqdm(filepaths_ls,\n",
    "                              desc=\"Loading embeddings\",\n",
    "                              unit=\"partition\")\n",
    "        for filepath in wrapped_loader:\n",
    "\n",
    "            df = pd.read_parquet(filepath)\n",
    "            index_ls.append(df.index)\n",
    "            values_ls.append(df['embedding'].tolist())\n",
    "\n",
    "        # Join into single df and return\n",
    "        return pd.DataFrame(\n",
    "            np.concatenate(values_ls, axis=0, dtype=np.float32),\n",
    "            index=np.concatenate(index_ls, axis=0))\n",
    "\n",
    "    \"\"\"\n",
    "    Necessary for pytorch\n",
    "    \"\"\"\n",
    "    def __len__(self):\n",
    "        return len(self._embeddings_df)\n",
    "\n",
    "    def __getitem__(self, idx: int):\n",
    "        return (self._embeddings_df.iloc[idx].values,\n",
    "                self._labels_df.Confidence.iloc[idx])\n",
    "\n",
    "    \n",
    "def create_dataset(metadata_dir: str, embeddings_dir: str, split: str):\n",
    "    return OpenImagesDataset(metadata_dir, embeddings_dir, split=split)"
   ]
  },
  {
   "cell_type": "code",
   "execution_count": 11,
   "id": "ea311556",
   "metadata": {},
   "outputs": [
    {
     "name": "stdout",
     "output_type": "stream",
     "text": [
      "Loading metadata... Done.\n"
     ]
    },
    {
     "data": {
      "application/vnd.jupyter.widget-view+json": {
       "model_id": "a964b192f7cf46cb989066ea74a0212b",
       "version_major": 2,
       "version_minor": 0
      },
      "text/plain": [
       "Loading embeddings:   0%|          | 0/16 [00:00<?, ?partition/s]"
      ]
     },
     "metadata": {},
     "output_type": "display_data"
    },
    {
     "name": "stdout",
     "output_type": "stream",
     "text": [
      "Shape of embeddings for test images: (113508, 256)\n"
     ]
    }
   ],
   "source": [
    "# Create test dataset object\n",
    "if 'd_test' not in locals():\n",
    "    d_test = create_dataset(metadata_dir, test_dir, 'test')\n",
    "print(\"Shape of embeddings for test images: {}\".format(d_test.embeddings.shape))"
   ]
  },
  {
   "cell_type": "code",
   "execution_count": 12,
   "id": "ebe209cf",
   "metadata": {},
   "outputs": [
    {
     "name": "stdout",
     "output_type": "stream",
     "text": [
      "Loading metadata... Done.\n"
     ]
    },
    {
     "data": {
      "application/vnd.jupyter.widget-view+json": {
       "model_id": "067d8d8c660644c9b56b03e0c0f96853",
       "version_major": 2,
       "version_minor": 0
      },
      "text/plain": [
       "Loading embeddings:   0%|          | 0/94 [00:00<?, ?partition/s]"
      ]
     },
     "metadata": {},
     "output_type": "display_data"
    },
    {
     "name": "stdout",
     "output_type": "stream",
     "text": [
      "Shape of embeddings for training images: (8121242, 256)\n"
     ]
    }
   ],
   "source": [
    "# Create training dataset object\n",
    "if 'd_train' not in locals():\n",
    "    d_train = create_dataset(metadata_dir, train_dir, 'train')\n",
    "print(\"Shape of embeddings for training images: {}\".format(d_train.embeddings.shape))"
   ]
  },
  {
   "cell_type": "markdown",
   "id": "c87dbcd7",
   "metadata": {},
   "source": [
    "## Helper functions for active learning\n",
    "Don't worry about understanding this to complete the exercise."
   ]
  },
  {
   "cell_type": "code",
   "execution_count": 9,
   "id": "a110320d",
   "metadata": {},
   "outputs": [],
   "source": [
    "def set_random_seed(seed: Optional[int] = None):\n",
    "    seed = np.random.randint(10000) if seed is None else seed\n",
    "    np.random.seed(seed)\n",
    "    return seed\n",
    "\n",
    "\n",
    "def create_seed(labels: np.array,\n",
    "                emb_dimension: int,\n",
    "                npositive: int = 5,\n",
    "                nnegative: int = 95,\n",
    "                random_seed: int = 400):\n",
    "    # Make sure there are enough negative examples\n",
    "    nnegative = max(nnegative, emb_dimension - npositive)\n",
    "\n",
    "    # Select indices for random samples\n",
    "    pos_samples = np.random.choice(\n",
    "        np.where(labels == 1)[0], npositive, replace=False)\n",
    "    neg_samples = np.random.choice(\n",
    "        np.where(labels == 0)[0], nnegative, replace=False)\n",
    "\n",
    "    # Combine and sort\n",
    "    seed = np.sort(np.concatenate((pos_samples, neg_samples)))\n",
    "\n",
    "    return seed\n",
    "\n",
    "\n",
    "def visualize_urls(urls: List[str], message: str = ''):\n",
    "    print(message)\n",
    "    [display(Image(url=url, width=400)) for url in urls]\n",
    "    input('Press any key to continue')\n",
    "    clear_output()\n",
    "\n",
    "    \n",
    "def train_model(embeddings: np.array, labels: np.array):\n",
    "    return LogisticRegression().fit(embeddings, labels)\n",
    "\n",
    "\n",
    "def eval_model(model, dataset):\n",
    "    proba = model.predict_proba(dataset.embeddings)[:, 1]\n",
    "    return average_precision_score(dataset.labels, proba)\n",
    "\n",
    "\n",
    "def collect_labels(dataset, indices: np.array, target_class: str):\n",
    "    labels = []\n",
    "    for url in dataset.urls[indices]:\n",
    "\n",
    "        # Show link and image\n",
    "        clear_output()\n",
    "        print(f'Link: {url}')\n",
    "        display(Image(url=url, width=400))\n",
    "        time.sleep(0.25)\n",
    "\n",
    "        # Get user label\n",
    "        need_input = True\n",
    "        while need_input:\n",
    "            label = input(f'Is this an example of {target_class}? [Y/n] ')\n",
    "            label = 'Y' if label is None or label == '' else label[0].upper()\n",
    "\n",
    "            if label not in ['N', 'Y']:\n",
    "                print('Invalid input')\n",
    "                continue\n",
    "\n",
    "            labels.append(1 if label == 'Y' else 0)\n",
    "            need_input = False\n",
    "\n",
    "    clear_output()\n",
    "    print(f'Finished labeling {len(labels)} images')\n",
    "    return labels\n",
    "\n",
    "\n",
    "def visualize_scores(scores: List[float], ylabel: str = 'Average precision'):\n",
    "    plt.title('Model score for test data')\n",
    "    plt.xlabel('Active learning round (#)')\n",
    "    plt.ylabel(ylabel)\n",
    "\n",
    "    plt.plot(range(len(scores)), scores, 'o-', color='b')\n",
    "    plt.xticks(range(len(scores)))\n",
    "    plt.legend(loc=\"best\")\n",
    "    plt.show()\n",
    "    \n",
    "def select_maxent(model, dataset, indices: List[int], budget: int):\n",
    "    # Get prediction probability for elegible indices\n",
    "    proba = model.predict_proba(dataset.embeddings[indices])\n",
    "\n",
    "    # Calculate information entropy from probabilities\n",
    "    entropy = -1.0 * (np.log(proba) * proba).sum(axis=1)\n",
    "\n",
    "    # Select indices with highest entropy (i.e. MaxEnt)\n",
    "    selected = entropy.argsort(axis=0)[::-1][:budget]\n",
    "\n",
    "    # Convert to original index\n",
    "    selected = np.array(indices)[selected]\n",
    "\n",
    "    return selected"
   ]
  },
  {
   "cell_type": "markdown",
   "id": "17c30ba8",
   "metadata": {},
   "source": [
    "## Baseline approach for reference\n",
    "You might want to skip this if you're in a rush ;)"
   ]
  },
  {
   "cell_type": "code",
   "execution_count": 10,
   "id": "0a067eb6",
   "metadata": {},
   "outputs": [],
   "source": [
    "def baseline_selection(\n",
    "    train, test, concept: str, rounds: Tuple[int],\n",
    "    npos: int = 5, nneg: int = 95, k: int = 100,\n",
    "    select: Callable = select_maxent):\n",
    "\n",
    "    # Set initial values\n",
    "    labeled = create_seed(train.labels, train.embeddings_dimension, npos, nneg)\n",
    "    new_labeled = labeled\n",
    "    labels = train.labels[labeled]\n",
    "    scores = []\n",
    "    model = None\n",
    "    candidates = set(np.arange(len(train))) - set(labeled)\n",
    "\n",
    "    # Visualize seed\n",
    "    visualize_urls(train.urls[labeled[np.where(labels == 1)]],\n",
    "                   message=f'Initial positive samples for {concept}')\n",
    "\n",
    "    # Main active learning loop\n",
    "    for budget in rounds:\n",
    "        # Train model using labeled samples and score\n",
    "        model = train_model(train.embeddings[labeled], labels)\n",
    "        scores.append(eval_model(model, test))\n",
    "\n",
    "        # Select points to label (MaxEnt for now)\n",
    "        new_labeled = select(model, train, list(candidates), budget)\n",
    "\n",
    "        # User labels selected points\n",
    "        new_labels = collect_labels(train, new_labeled, concept)\n",
    "\n",
    "        # Update arrays\n",
    "        labeled = np.concatenate((labeled, new_labeled))\n",
    "        labels = np.concatenate((labels, new_labels))\n",
    "        candidates -= set(new_labeled)\n",
    "\n",
    "    # Train and score final iteration of model\n",
    "    model = train_model(train.embeddings[labeled], labels)\n",
    "    scores.append(eval_model(model, test))\n",
    "    return model, scores"
   ]
  },
  {
   "cell_type": "code",
   "execution_count": 15,
   "id": "78bde7f9",
   "metadata": {},
   "outputs": [],
   "source": [
    "# Set rare concept (e.g. Bowling, Sushi, Rat, Beach, Hawk, Cupcake, Crowd, etc)\n",
    "concept = 'Bowling'\n",
    "\n",
    "# Set concept\n",
    "d_train.target_class = concept\n",
    "d_test.target_class = concept"
   ]
  },
  {
   "cell_type": "code",
   "execution_count": 102,
   "id": "676a8935",
   "metadata": {
    "scrolled": false
   },
   "outputs": [
    {
     "name": "stdout",
     "output_type": "stream",
     "text": [
      "Finished labeling 5 images\n",
      "Total time: 0:09:12.237339\n"
     ]
    }
   ],
   "source": [
    "np.random.seed(400)  # for reproducibility\n",
    "start = datetime.now()\n",
    "model, scores = baseline_selection(\n",
    "    train=d_train, test=d_test, concept=concept, npos=5, nneg=300,\n",
    "    rounds=[5, 5, 5], select=select_maxent)\n",
    "print(\"Total time: {}\".format(datetime.now() - start))"
   ]
  },
  {
   "cell_type": "code",
   "execution_count": 103,
   "id": "b9beab7f",
   "metadata": {},
   "outputs": [
    {
     "name": "stderr",
     "output_type": "stream",
     "text": [
      "No artists with labels found to put in legend.  Note that artists whose label start with an underscore are ignored when legend() is called with no argument.\n"
     ]
    },
    {
     "data": {
      "image/png": "[encoded data removed]",
      "text/plain": [
       "<Figure size 640x480 with 1 Axes>"
      ]
     },
     "metadata": {},
     "output_type": "display_data"
    }
   ],
   "source": [
    "visualize_scores(scores)"
   ]
  },
  {
   "cell_type": "markdown",
   "id": "d75a1506",
   "metadata": {},
   "source": [
    "## Similarity Search for Efficient Active Learning and Search (SEALS)\n",
    "That was really slow. Let's speed up the process by implementing the [SEALS](https://aaai-2022.virtualchair.net/poster_aaai12967) approach from lecture.\n",
    "\n",
    "First, we need to create a similarity search index:"
   ]
  },
  {
   "cell_type": "code",
   "execution_count": 11,
   "id": "4b7bb423",
   "metadata": {},
   "outputs": [],
   "source": [
    "class IndexWrapper():\n",
    "\n",
    "    def __init__(self, dataset, method='LSH'):\n",
    "        assert method in ['LSH', 'flatL2'], 'Invalid index method'\n",
    "        self._dataset = dataset\n",
    "        self._method = method\n",
    "        self._index = self._create_index()\n",
    "\n",
    "    def __len__(self):\n",
    "        return self._index.ntotal\n",
    "\n",
    "    def __getitem__(self, idx: int):\n",
    "        # Return url and corresponding embedding\n",
    "        return self._dataset.index[idx], self._dataset.embeddings[idx]\n",
    "\n",
    "    @property\n",
    "    def d(self):\n",
    "        return self._index.d\n",
    "\n",
    "    @property\n",
    "    def ntotal(self):\n",
    "        return self._index.ntotal\n",
    "\n",
    "    def _create_index(self):\n",
    "        \"\"\"\n",
    "        Returns FAISS index created from dataset.embeddings using the\n",
    "        specified index method\n",
    "        \"\"\"\n",
    "        # Initialize index\n",
    "        index = None\n",
    "        d = self._dataset.embeddings_dimension\n",
    "\n",
    "        if self._method == 'flatL2':\n",
    "            index = faiss.IndexFlatL2(d)\n",
    "\n",
    "        elif self._method == 'LSH':\n",
    "            n_bits = 2 * d\n",
    "            index = faiss.IndexLSH(d, n_bits)\n",
    "            index.train(self._dataset.embeddings)\n",
    "\n",
    "        # Add embeddings\n",
    "        index.add(self._dataset.embeddings)\n",
    "\n",
    "        return index\n",
    "\n",
    "    def search(self, q: np.array, k: int, attrs=None):\n",
    "        \"\"\"\n",
    "        Returns tuple, where each element is an attribute array specified\n",
    "        in attrs. Valid attributes include 'distances', 'urls', 'indices', and\n",
    "        'embeddings'\n",
    "        \"\"\"\n",
    "        # If no attributes selected, use default\n",
    "        default_attrs = ('indices', 'distances')\n",
    "        attrs = default_attrs if attrs is None else attrs\n",
    "\n",
    "        # Initialize results dictionary\n",
    "        results = {}\n",
    "\n",
    "        # Convert query to 2D np array for FAISS index\n",
    "        q = q if len(q.shape) == 2 else np.array([q])\n",
    "\n",
    "        # Search k-NN of q using the index\n",
    "        nn_distances, nn_indices = self._index.search(q, k)\n",
    "        results['distances'], results['indices'] = nn_distances, nn_indices\n",
    "\n",
    "        # Get other attributes\n",
    "        other_attrs = [attr for attr in attrs if attr not in default_attrs]\n",
    "        for attr in other_attrs:\n",
    "            assert hasattr(self._dataset, attr), 'Invalid attribute'\n",
    "            results[attr] = [\n",
    "                getattr(self._dataset, attr)[idx] for idx in results['indices']]\n",
    "\n",
    "        # Return results in order given by attrs\n",
    "        return tuple([results[attr] for attr in attrs])\n",
    "    \n",
    "    \n",
    "def create_index(dataset, method: str = 'LSH'):\n",
    "    return IndexWrapper(dataset, method=method)"
   ]
  },
  {
   "cell_type": "code",
   "execution_count": 17,
   "id": "6534d729",
   "metadata": {},
   "outputs": [],
   "source": [
    "# Create IndexWrapper for training data\n",
    "if 'index_train' not in locals():\n",
    "    index_train = create_index(d_train)"
   ]
  },
  {
   "cell_type": "markdown",
   "id": "d9634a77",
   "metadata": {},
   "source": [
    "## Exercise 2: Manage Candidate Pool\n",
    "Now that we have a similarity search index let's use it to limit the candidate pool we select unlabeled examples from. We don't need to look at all the unlabeled examples from the beginning. Instead, we could start with the nearest neighbors to our currently labeled examples and expand the pool. Using the baseline approach as a starting point, fill in the sections of the code labeled `YOUR CODE HERE`."
   ]
  },
  {
   "cell_type": "code",
   "execution_count": 14,
   "id": "0c47d19c",
   "metadata": {},
   "outputs": [],
   "source": [
    "def SEALS(\n",
    "    train, test, concept: str, rounds: Tuple[int],\n",
    "    npos: int = 5, nneg: int = 95, k: int = 100,\n",
    "    select: Callable = select_maxent, knn = None):\n",
    "\n",
    "    # Set initial values\n",
    "    labeled = create_seed(train.labels, train.embeddings_dimension, npos, nneg)\n",
    "    new_labeled = labeled\n",
    "    labels = train.labels[labeled]\n",
    "    scores = []\n",
    "    model = None\n",
    "    candidates = set(np.arange(len(train))) - set(labeled)\n",
    "    \n",
    "    if knn is not None:\n",
    "        # YOUR CODE HERE\n",
    "        pass\n",
    "\n",
    "    # Visualize seed\n",
    "    visualize_urls(train.urls[labeled[np.where(labels == 1)]],\n",
    "                   message=f'Initial positive samples for {concept}')\n",
    "\n",
    "    # Main active learning loop\n",
    "    for budget in rounds:\n",
    "        if knn is not None:\n",
    "            # YOUR CODE HERE\n",
    "            pass\n",
    "            \n",
    "        # Train model using labeled samples and score\n",
    "        model = train_model(train.embeddings[labeled], labels)\n",
    "        scores.append(eval_model(model, test))\n",
    "\n",
    "        # Select points to label (MaxEnt for now)\n",
    "        new_labeled = select(model, train, list(candidates), budget)\n",
    "\n",
    "        # User labels selected points\n",
    "        new_labels = collect_labels(train, new_labeled, concept)\n",
    "\n",
    "        # Update arrays\n",
    "        labeled = np.concatenate((labeled, new_labeled))\n",
    "        labels = np.concatenate((labels, new_labels))\n",
    "        candidates -= set(new_labeled)\n",
    "\n",
    "    # Train and score final iteration of model\n",
    "    model = train_model(train.embeddings[labeled], labels)\n",
    "    scores.append(eval_model(model, test))\n",
    "    return model, scores"
   ]
  },
  {
   "cell_type": "code",
   "execution_count": 19,
   "id": "b4ce9817",
   "metadata": {
    "scrolled": false
   },
   "outputs": [
    {
     "name": "stdout",
     "output_type": "stream",
     "text": [
      "Finished labeling 5 images\n",
      "Total time: 0:00:46.942903\n"
     ]
    }
   ],
   "source": [
    "np.random.seed(400)  # for reproducibility\n",
    "start = datetime.now()\n",
    "model, scores = SEALS(\n",
    "    train=d_train, test=d_test, concept=concept, npos=5, nneg=300,\n",
    "    rounds=[5, 5, 5], select=select_maxent, knn=index_train)\n",
    "print(\"Total time: {}\".format(datetime.now() - start))"
   ]
  },
  {
   "cell_type": "code",
   "execution_count": 20,
   "id": "1dcc53df",
   "metadata": {},
   "outputs": [
    {
     "name": "stderr",
     "output_type": "stream",
     "text": [
      "No artists with labels found to put in legend.  Note that artists whose label start with an underscore are ignored when legend() is called with no argument.\n"
     ]
    },
    {
     "data": {
      "image/png": "[encoded data removed]",
      "text/plain": [
       "<Figure size 640x480 with 1 Axes>"
      ]
     },
     "metadata": {},
     "output_type": "display_data"
    }
   ],
   "source": [
    "visualize_scores(scores)"
   ]
  },
  {
   "cell_type": "code",
   "execution_count": null,
   "id": "283a65a0",
   "metadata": {},
   "outputs": [],
   "source": []
  }
 ],
 "metadata": {
  "kernelspec": {
   "display_name": "Python 3 (ipykernel)",
   "language": "python",
   "name": "python3"
  },
  "language_info": {
   "codemirror_mode": {
    "name": "ipython",
    "version": 3
   },
   "file_extension": ".py",
   "mimetype": "text/x-python",
   "name": "python",
   "nbconvert_exporter": "python",
   "pygments_lexer": "ipython3",
   "version": "3.9.16"
  }
 },
 "nbformat": 4,
 "nbformat_minor": 5
}
